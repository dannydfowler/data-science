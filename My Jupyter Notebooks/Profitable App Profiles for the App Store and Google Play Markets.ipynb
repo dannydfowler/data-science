{
 "cells": [
  {
   "cell_type": "markdown",
   "metadata": {},
   "source": [
    "# Profitable App Profiles for the App Store and Google Play Markets\n",
    "\n",
    "Our organisation only build apps that are free to download and install, and our main source of revenue consists of in-app ads. This means our revenue for any given app is mostly influenced by the number of users who use our app — the more users that see and engage with the ads, the better. Our goal for this project is to analyze data to help our developers understand what type of apps are likely to attract more users."
   ]
  },
  {
   "cell_type": "code",
   "execution_count": 1,
   "metadata": {},
   "outputs": [],
   "source": [
    "def explore_data(dataset, start, end, rows_and_columns=False):\n",
    "    dataset_slice = dataset[start:end]    \n",
    "    for row in dataset_slice:\n",
    "        print(row)\n",
    "        print('\\n') # adds a new (empty) line after each row\n",
    "\n",
    "    if rows_and_columns:\n",
    "        print('Number of rows:', len(dataset))\n",
    "        print('Number of columns:', len(dataset[0]))"
   ]
  },
  {
   "cell_type": "code",
   "execution_count": 2,
   "metadata": {},
   "outputs": [],
   "source": [
    "opened_file = open('/Users/dannyfowler/Data Science/My Datasets/google-play-store-apps/googleplaystore.csv')\n",
    "\n",
    "from csv import reader\n",
    "read_file = reader(opened_file)\n",
    "google_data = list(read_file)"
   ]
  },
  {
   "cell_type": "code",
   "execution_count": 3,
   "metadata": {},
   "outputs": [],
   "source": [
    "opened_file = open('/Users/dannyfowler/Data Science/My Datasets/app-store-apple-data-set-10k-apps/AppleStore.csv')\n",
    "\n",
    "from csv import reader\n",
    "read_file = reader(opened_file)\n",
    "apple_data = list(read_file)"
   ]
  },
  {
   "cell_type": "markdown",
   "metadata": {},
   "source": [
    "# Data Exploration"
   ]
  },
  {
   "cell_type": "markdown",
   "metadata": {},
   "source": [
    "## Google Play Data\n",
    "### Columns in Google Play dataset\n",
    "\n",
    "App - Application name\n",
    "\n",
    "Category - Category the app belongs to\n",
    "\n",
    "Rating - Overall user rating of the app (as when scraped)\n",
    "\n",
    "Reviews - Number of user reviews for the app (as when scraped)\n",
    "\n",
    "Size - Size of the app (as when scraped)\n",
    "\n",
    "Installs - Number of user downloads/installs for the app (as when scraped)\n",
    "\n",
    "Type - Paid or Free\n",
    "\n",
    "Price - Price of the app (as when scraped)\n",
    "\n",
    "Content Rating - Age group the app is targeted at - Children / Mature 21+ / Adult\n",
    "\n",
    "Genres - An app can belong to multiple genres (apart from its main category). For eg, a musical family game will belong to Music, Game, Family genres.\n",
    "\n",
    "Last Updated - Date when the app was last updated on Play Store (as when scraped)\n",
    "\n",
    "Current Ver - Current version of the app available on Play Store (as when scraped)\n",
    "\n",
    "Android Ver - Min required Android version (as when scraped)"
   ]
  },
  {
   "cell_type": "code",
   "execution_count": 4,
   "metadata": {},
   "outputs": [
    {
     "name": "stdout",
     "output_type": "stream",
     "text": [
      "['App', 'Category', 'Rating', 'Reviews', 'Size', 'Installs', 'Type', 'Price', 'Content Rating', 'Genres', 'Last Updated', 'Current Ver', 'Android Ver']\n",
      "\n",
      "\n",
      "['Photo Editor & Candy Camera & Grid & ScrapBook', 'ART_AND_DESIGN', '4.1', '159', '19M', '10,000+', 'Free', '0', 'Everyone', 'Art & Design', 'January 7, 2018', '1.0.0', '4.0.3 and up']\n",
      "\n",
      "\n",
      "['Coloring book moana', 'ART_AND_DESIGN', '3.9', '967', '14M', '500,000+', 'Free', '0', 'Everyone', 'Art & Design;Pretend Play', 'January 15, 2018', '2.0.0', '4.0.3 and up']\n",
      "\n",
      "\n",
      "Number of rows: 10842\n",
      "Number of columns: 13\n"
     ]
    }
   ],
   "source": [
    "explore_data(google_data,0,3,True)"
   ]
  },
  {
   "cell_type": "code",
   "execution_count": 5,
   "metadata": {},
   "outputs": [
    {
     "name": "stdout",
     "output_type": "stream",
     "text": [
      "['Life Made WI-Fi Touchscreen Photo Frame', '1.9', '19', '3.0M', '1,000+', 'Free', '0', 'Everyone', '', 'February 11, 2018', '1.0.19', '4.0 and up']\n"
     ]
    }
   ],
   "source": [
    "print(google_data[10473])"
   ]
  },
  {
   "cell_type": "code",
   "execution_count": 6,
   "metadata": {},
   "outputs": [
    {
     "name": "stdout",
     "output_type": "stream",
     "text": [
      "10842\n"
     ]
    }
   ],
   "source": [
    "print(len(google_data))"
   ]
  },
  {
   "cell_type": "code",
   "execution_count": 7,
   "metadata": {},
   "outputs": [],
   "source": [
    "del google_data[10473]"
   ]
  },
  {
   "cell_type": "markdown",
   "metadata": {},
   "source": [
    "Row deleted as invalid number of columns."
   ]
  },
  {
   "cell_type": "markdown",
   "metadata": {},
   "source": [
    "# Apple Data\n",
    "### Columns in apple dataset:\n",
    "\n",
    "\"id\" : App ID\n",
    "\n",
    "\"track_name\": App Name\n",
    "\n",
    "\"size_bytes\": Size (in Bytes)\n",
    "\n",
    "\"currency\": Currency Type\n",
    "\n",
    "\"price\": Price amount\n",
    "\n",
    "\"rating_count_tot\": User Rating counts (for all version)\n",
    "\n",
    "\"rating_count_ver\": User Rating counts (for current version)\n",
    "\n",
    "\"user_rating\" : Average User Rating value (for all version)\n",
    "\n",
    "\"user_rating_ver\": Average User Rating value (for current version)\n",
    "\n",
    "\"ver\" : Latest version code\n",
    "\n",
    "\"cont_rating\": Content Rating\n",
    "\n",
    "\"prime_genre\": Primary Genre\n",
    "\n",
    "\"sup_devices.num\": Number of supporting devices\n",
    "\n",
    "\"ipadSc_urls.num\": Number of screenshots showed for display\n",
    "\n",
    "\"lang.num\": Number of supported languages\n",
    "\n",
    "\"vpp_lic\": Vpp Device Based Licensing Enabled"
   ]
  },
  {
   "cell_type": "code",
   "execution_count": 8,
   "metadata": {
    "scrolled": true
   },
   "outputs": [
    {
     "name": "stdout",
     "output_type": "stream",
     "text": [
      "['', 'id', 'track_name', 'size_bytes', 'currency', 'price', 'rating_count_tot', 'rating_count_ver', 'user_rating', 'user_rating_ver', 'ver', 'cont_rating', 'prime_genre', 'sup_devices.num', 'ipadSc_urls.num', 'lang.num', 'vpp_lic']\n",
      "\n",
      "\n",
      "['1', '281656475', 'PAC-MAN Premium', '100788224', 'USD', '3.99', '21292', '26', '4', '4.5', '6.3.5', '4+', 'Games', '38', '5', '10', '1']\n",
      "\n",
      "\n",
      "['2', '281796108', 'Evernote - stay organized', '158578688', 'USD', '0', '161065', '26', '4', '3.5', '8.2.2', '4+', 'Productivity', '37', '5', '23', '1']\n",
      "\n",
      "\n",
      "Number of rows: 7198\n",
      "Number of columns: 17\n"
     ]
    }
   ],
   "source": [
    "explore_data(apple_data,0,3,True)"
   ]
  },
  {
   "cell_type": "markdown",
   "metadata": {},
   "source": [
    "# Data Cleansing"
   ]
  },
  {
   "cell_type": "markdown",
   "metadata": {},
   "source": [
    "## Duplicates"
   ]
  },
  {
   "cell_type": "markdown",
   "metadata": {},
   "source": [
    "### Google"
   ]
  },
  {
   "cell_type": "code",
   "execution_count": 9,
   "metadata": {},
   "outputs": [
    {
     "name": "stdout",
     "output_type": "stream",
     "text": [
      "There are 1181 duplicate apps in this dataset\n",
      "Some dupes are:\n",
      "['Quick PDF Scanner + OCR FREE', 'Box', 'Google My Business', 'ZOOM Cloud Meetings', 'join.me - Simple Meetings']\n"
     ]
    }
   ],
   "source": [
    "google_app_names = []\n",
    "google_app_names_dupes = []\n",
    "\n",
    "for row in google_data[1:]:\n",
    "    name = row[0]\n",
    "    if name in google_app_names:\n",
    "        google_app_names_dupes.append(name)\n",
    "    else:\n",
    "        google_app_names.append(name)\n",
    "        \n",
    "print('There are ' + str(len(google_app_names_dupes)) + ' duplicate apps in this dataset')\n",
    "print('Some dupes are:')\n",
    "print(google_app_names_dupes[0:5])"
   ]
  },
  {
   "cell_type": "markdown",
   "metadata": {},
   "source": [
    "As there are duplicates in the data, the apps with the largest count of user ratings will be left in the data, with the others removed."
   ]
  },
  {
   "cell_type": "code",
   "execution_count": 10,
   "metadata": {},
   "outputs": [
    {
     "name": "stdout",
     "output_type": "stream",
     "text": [
      "9659\n"
     ]
    }
   ],
   "source": [
    "reviews_max = {}\n",
    "\n",
    "for row in google_data[1:]:\n",
    "    name = row[0]\n",
    "    n_reviews = float(row[3])\n",
    "    if name in reviews_max:\n",
    "        if reviews_max[name] < n_reviews:\n",
    "            reviews_max[name] = n_reviews\n",
    "    else:\n",
    "        reviews_max[name] = n_reviews\n",
    "\n",
    "print(len(reviews_max))"
   ]
  },
  {
   "cell_type": "markdown",
   "metadata": {},
   "source": [
    "The above code finds the maximum number of reviews for each app and stores them in a dictionary. This now provides a reference point so that we can loop through the google play store data, and include it in our clean dataset only when the number of reviews for that record is the maximum number."
   ]
  },
  {
   "cell_type": "code",
   "execution_count": 11,
   "metadata": {},
   "outputs": [],
   "source": [
    "android_clean = []\n",
    "already_added = []\n",
    "\n",
    "for row in google_data[1:]:\n",
    "    name = row[0]\n",
    "    n_reviews = float(row[3])\n",
    "    if n_reviews == reviews_max[name] and name not in already_added:\n",
    "        android_clean.append(row)\n",
    "        already_added.append(name)"
   ]
  },
  {
   "cell_type": "code",
   "execution_count": 12,
   "metadata": {},
   "outputs": [
    {
     "name": "stdout",
     "output_type": "stream",
     "text": [
      "['Photo Editor & Candy Camera & Grid & ScrapBook', 'ART_AND_DESIGN', '4.1', '159', '19M', '10,000+', 'Free', '0', 'Everyone', 'Art & Design', 'January 7, 2018', '1.0.0', '4.0.3 and up']\n",
      "\n",
      "\n",
      "['U Launcher Lite – FREE Live Cool Themes, Hide Apps', 'ART_AND_DESIGN', '4.7', '87510', '8.7M', '5,000,000+', 'Free', '0', 'Everyone', 'Art & Design', 'August 1, 2018', '1.2.4', '4.0.3 and up']\n",
      "\n",
      "\n",
      "['Sketch - Draw & Paint', 'ART_AND_DESIGN', '4.5', '215644', '25M', '50,000,000+', 'Free', '0', 'Teen', 'Art & Design', 'June 8, 2018', 'Varies with device', '4.2 and up']\n",
      "\n",
      "\n",
      "Number of rows: 9659\n",
      "Number of columns: 13\n"
     ]
    }
   ],
   "source": [
    "explore_data(android_clean,0,3,True)"
   ]
  },
  {
   "cell_type": "markdown",
   "metadata": {},
   "source": [
    "### Apple"
   ]
  },
  {
   "cell_type": "code",
   "execution_count": 13,
   "metadata": {},
   "outputs": [
    {
     "name": "stdout",
     "output_type": "stream",
     "text": [
      "There are 2 duplicate apps in this dataset\n",
      "Some dupes are:\n",
      "['VR Roller Coaster', 'Mannequin Challenge']\n"
     ]
    }
   ],
   "source": [
    "apple_app_names = []\n",
    "apple_app_names_dupes = []\n",
    "\n",
    "for row in apple_data[1:]:\n",
    "    name = row[2]\n",
    "    if name in apple_app_names:\n",
    "        apple_app_names_dupes.append(name)\n",
    "    else:\n",
    "        apple_app_names.append(name)\n",
    "        \n",
    "print('There are ' + str(len(apple_app_names_dupes)) + ' duplicate apps in this dataset')\n",
    "print('Some dupes are:')\n",
    "print(apple_app_names_dupes[0:5])"
   ]
  },
  {
   "cell_type": "markdown",
   "metadata": {},
   "source": [
    "Whilst there are duplicates in this dataset, due to the conclusion of the discussion found [here](https://www.kaggle.com/ramamet4/app-store-apple-data-set-10k-apps/discussion/90409), these will be left in."
   ]
  },
  {
   "cell_type": "markdown",
   "metadata": {},
   "source": [
    "## Non-English Apps"
   ]
  },
  {
   "cell_type": "markdown",
   "metadata": {},
   "source": [
    "The below function checks that a string contains only english characters (ASCII 0-127):"
   ]
  },
  {
   "cell_type": "code",
   "execution_count": 14,
   "metadata": {},
   "outputs": [],
   "source": [
    "def englishCharactersOnly(string):\n",
    "    n_non_english = 0\n",
    "    for char in string:\n",
    "        if ord(char) > 127:\n",
    "            n_non_english += 1\n",
    "        if n_non_english >= 3:\n",
    "            return False\n",
    "    return True"
   ]
  },
  {
   "cell_type": "markdown",
   "metadata": {},
   "source": [
    "### Google"
   ]
  },
  {
   "cell_type": "code",
   "execution_count": 15,
   "metadata": {},
   "outputs": [],
   "source": [
    "google_eng = []\n",
    "\n",
    "for row in android_clean:\n",
    "    name = row[0]\n",
    "    if (englishCharactersOnly(name)):\n",
    "        google_eng.append(row)"
   ]
  },
  {
   "cell_type": "code",
   "execution_count": 16,
   "metadata": {},
   "outputs": [
    {
     "name": "stdout",
     "output_type": "stream",
     "text": [
      "['Photo Editor & Candy Camera & Grid & ScrapBook', 'ART_AND_DESIGN', '4.1', '159', '19M', '10,000+', 'Free', '0', 'Everyone', 'Art & Design', 'January 7, 2018', '1.0.0', '4.0.3 and up']\n",
      "\n",
      "\n",
      "['U Launcher Lite – FREE Live Cool Themes, Hide Apps', 'ART_AND_DESIGN', '4.7', '87510', '8.7M', '5,000,000+', 'Free', '0', 'Everyone', 'Art & Design', 'August 1, 2018', '1.2.4', '4.0.3 and up']\n",
      "\n",
      "\n",
      "['Sketch - Draw & Paint', 'ART_AND_DESIGN', '4.5', '215644', '25M', '50,000,000+', 'Free', '0', 'Teen', 'Art & Design', 'June 8, 2018', 'Varies with device', '4.2 and up']\n",
      "\n",
      "\n",
      "Number of rows: 9597\n",
      "Number of columns: 13\n"
     ]
    }
   ],
   "source": [
    "explore_data(google_eng,0,3,True)"
   ]
  },
  {
   "cell_type": "markdown",
   "metadata": {},
   "source": [
    "### Apple"
   ]
  },
  {
   "cell_type": "code",
   "execution_count": 17,
   "metadata": {},
   "outputs": [],
   "source": [
    "apple_eng = []\n",
    "\n",
    "for row in apple_data[1:]:\n",
    "    name = row[2]\n",
    "    if (englishCharactersOnly(name)):\n",
    "        apple_eng.append(row)"
   ]
  },
  {
   "cell_type": "code",
   "execution_count": 18,
   "metadata": {},
   "outputs": [
    {
     "name": "stdout",
     "output_type": "stream",
     "text": [
      "['1', '281656475', 'PAC-MAN Premium', '100788224', 'USD', '3.99', '21292', '26', '4', '4.5', '6.3.5', '4+', 'Games', '38', '5', '10', '1']\n",
      "\n",
      "\n",
      "['2', '281796108', 'Evernote - stay organized', '158578688', 'USD', '0', '161065', '26', '4', '3.5', '8.2.2', '4+', 'Productivity', '37', '5', '23', '1']\n",
      "\n",
      "\n",
      "['3', '281940292', 'WeatherBug - Local Weather, Radar, Maps, Alerts', '100524032', 'USD', '0', '188583', '2822', '3.5', '4.5', '5.0.0', '4+', 'Weather', '37', '5', '3', '1']\n",
      "\n",
      "\n",
      "Number of rows: 6155\n",
      "Number of columns: 17\n"
     ]
    }
   ],
   "source": [
    "explore_data(apple_eng,0,3,True)"
   ]
  },
  {
   "cell_type": "markdown",
   "metadata": {},
   "source": [
    "## Free Apps Only"
   ]
  },
  {
   "cell_type": "code",
   "execution_count": 19,
   "metadata": {},
   "outputs": [],
   "source": [
    "google_eng_free = []\n",
    "\n",
    "for row in google_eng:\n",
    "    typeApp = row[6]\n",
    "    if typeApp == 'Free':\n",
    "        google_eng_free.append(row)"
   ]
  },
  {
   "cell_type": "code",
   "execution_count": 20,
   "metadata": {},
   "outputs": [],
   "source": [
    "apple_eng_free = []\n",
    "\n",
    "for row in apple_eng:\n",
    "    price = float(row[5])\n",
    "    if price == 0:\n",
    "        apple_eng_free.append(row)"
   ]
  },
  {
   "cell_type": "markdown",
   "metadata": {},
   "source": [
    "We are interested in looking for an app profile that appeals across both the Google Play Store and the App store as the ad revenue will primarily be linked to the number of users of the app. Therefore by covering both markets this provides more opportunity to increase revenue."
   ]
  },
  {
   "cell_type": "markdown",
   "metadata": {},
   "source": [
    "### Useful columns for analysis:\n",
    "\n",
    "*Google (google_eng_free):*\n",
    "* Name [0]\n",
    "* Genre [9]\n",
    "* Installs [5]\n",
    "* Category [1]\n",
    "\n",
    "*Apple (apple_eng_free):*\n",
    "* Name [2]\n",
    "* Primary genre [12]\n",
    "* Rating Count for current version [6]\n",
    "* Rating Count for all versions [7]"
   ]
  },
  {
   "cell_type": "markdown",
   "metadata": {},
   "source": [
    "### Frequency Table"
   ]
  },
  {
   "cell_type": "code",
   "execution_count": 21,
   "metadata": {},
   "outputs": [],
   "source": [
    "def freq_table(dataset, index):\n",
    "    freq_table = {}\n",
    "    for row in dataset:\n",
    "        ref = row[index]\n",
    "        if ref in freq_table:\n",
    "            freq_table[ref] += 1\n",
    "        else:\n",
    "            freq_table[ref] = 1\n",
    "    return freq_table"
   ]
  },
  {
   "cell_type": "code",
   "execution_count": 22,
   "metadata": {},
   "outputs": [],
   "source": [
    "def display_table(dataset, index):\n",
    "    table = freq_table(dataset, index)\n",
    "    table_display = []\n",
    "    for key in table:\n",
    "        key_val_as_tuple = (table[key], key)\n",
    "        table_display.append(key_val_as_tuple)\n",
    "\n",
    "    table_sorted = sorted(table_display, reverse = True)\n",
    "    for entry in table_sorted:\n",
    "        print(entry[1], ':', entry[0])"
   ]
  },
  {
   "cell_type": "markdown",
   "metadata": {},
   "source": [
    "### Google"
   ]
  },
  {
   "cell_type": "markdown",
   "metadata": {},
   "source": [
    "**Category**"
   ]
  },
  {
   "cell_type": "code",
   "execution_count": 23,
   "metadata": {},
   "outputs": [
    {
     "name": "stdout",
     "output_type": "stream",
     "text": [
      "FAMILY : 1675\n",
      "GAME : 858\n",
      "TOOLS : 748\n",
      "BUSINESS : 407\n",
      "PRODUCTIVITY : 345\n",
      "LIFESTYLE : 344\n",
      "FINANCE : 328\n",
      "MEDICAL : 313\n",
      "SPORTS : 300\n",
      "PERSONALIZATION : 294\n",
      "COMMUNICATION : 286\n",
      "HEALTH_AND_FITNESS : 273\n",
      "PHOTOGRAPHY : 261\n",
      "NEWS_AND_MAGAZINES : 248\n",
      "SOCIAL : 236\n",
      "TRAVEL_AND_LOCAL : 207\n",
      "SHOPPING : 199\n",
      "BOOKS_AND_REFERENCE : 189\n",
      "DATING : 165\n",
      "VIDEO_PLAYERS : 159\n",
      "MAPS_AND_NAVIGATION : 123\n",
      "FOOD_AND_DRINK : 110\n",
      "EDUCATION : 103\n",
      "ENTERTAINMENT : 85\n",
      "LIBRARIES_AND_DEMO : 83\n",
      "AUTO_AND_VEHICLES : 82\n",
      "HOUSE_AND_HOME : 71\n",
      "WEATHER : 70\n",
      "EVENTS : 63\n",
      "PARENTING : 58\n",
      "ART_AND_DESIGN : 57\n",
      "COMICS : 54\n",
      "BEAUTY : 53\n"
     ]
    }
   ],
   "source": [
    "display_table(google_eng_free,1)"
   ]
  },
  {
   "cell_type": "markdown",
   "metadata": {},
   "source": [
    "The most common category we see here is the Family category, followed by Game apps. "
   ]
  },
  {
   "cell_type": "markdown",
   "metadata": {},
   "source": [
    "**Genres**"
   ]
  },
  {
   "cell_type": "code",
   "execution_count": 24,
   "metadata": {},
   "outputs": [
    {
     "name": "stdout",
     "output_type": "stream",
     "text": [
      "Tools : 747\n",
      "Entertainment : 538\n",
      "Education : 474\n",
      "Business : 407\n",
      "Productivity : 345\n",
      "Lifestyle : 343\n",
      "Finance : 328\n",
      "Medical : 313\n",
      "Sports : 306\n",
      "Personalization : 294\n",
      "Communication : 286\n",
      "Action : 274\n",
      "Health & Fitness : 273\n",
      "Photography : 261\n",
      "News & Magazines : 248\n",
      "Social : 236\n",
      "Travel & Local : 206\n",
      "Shopping : 199\n",
      "Books & Reference : 189\n",
      "Simulation : 181\n",
      "Dating : 165\n",
      "Arcade : 163\n",
      "Video Players & Editors : 157\n",
      "Casual : 156\n",
      "Maps & Navigation : 123\n",
      "Food & Drink : 110\n",
      "Puzzle : 100\n",
      "Racing : 88\n",
      "Role Playing : 83\n",
      "Libraries & Demo : 83\n",
      "Auto & Vehicles : 82\n",
      "Strategy : 80\n",
      "House & Home : 71\n",
      "Weather : 70\n",
      "Events : 63\n",
      "Adventure : 59\n",
      "Comics : 53\n",
      "Beauty : 53\n",
      "Art & Design : 53\n",
      "Parenting : 44\n",
      "Card : 40\n",
      "Trivia : 37\n",
      "Casino : 37\n",
      "Educational;Education : 35\n",
      "Board : 34\n",
      "Educational : 33\n",
      "Education;Education : 30\n",
      "Word : 23\n",
      "Casual;Pretend Play : 21\n",
      "Music : 18\n",
      "Racing;Action & Adventure : 15\n",
      "Puzzle;Brain Games : 15\n",
      "Entertainment;Music & Video : 15\n",
      "Casual;Brain Games : 12\n",
      "Casual;Action & Adventure : 12\n",
      "Arcade;Action & Adventure : 11\n",
      "Action;Action & Adventure : 9\n",
      "Educational;Pretend Play : 8\n",
      "Simulation;Action & Adventure : 7\n",
      "Parenting;Education : 7\n",
      "Entertainment;Brain Games : 7\n",
      "Board;Brain Games : 7\n",
      "Parenting;Music & Video : 6\n",
      "Educational;Brain Games : 6\n",
      "Casual;Creativity : 6\n",
      "Art & Design;Creativity : 6\n",
      "Education;Pretend Play : 5\n",
      "Role Playing;Pretend Play : 4\n",
      "Education;Creativity : 4\n",
      "Role Playing;Action & Adventure : 3\n",
      "Puzzle;Action & Adventure : 3\n",
      "Entertainment;Creativity : 3\n",
      "Entertainment;Action & Adventure : 3\n",
      "Educational;Creativity : 3\n",
      "Educational;Action & Adventure : 3\n",
      "Education;Music & Video : 3\n",
      "Education;Brain Games : 3\n",
      "Education;Action & Adventure : 3\n",
      "Adventure;Action & Adventure : 3\n",
      "Video Players & Editors;Music & Video : 2\n",
      "Sports;Action & Adventure : 2\n",
      "Simulation;Pretend Play : 2\n",
      "Puzzle;Creativity : 2\n",
      "Music;Music & Video : 2\n",
      "Entertainment;Pretend Play : 2\n",
      "Casual;Education : 2\n",
      "Board;Action & Adventure : 2\n",
      "Video Players & Editors;Creativity : 1\n",
      "Trivia;Education : 1\n",
      "Travel & Local;Action & Adventure : 1\n",
      "Tools;Education : 1\n",
      "Strategy;Education : 1\n",
      "Strategy;Creativity : 1\n",
      "Strategy;Action & Adventure : 1\n",
      "Simulation;Education : 1\n",
      "Role Playing;Brain Games : 1\n",
      "Racing;Pretend Play : 1\n",
      "Puzzle;Education : 1\n",
      "Parenting;Brain Games : 1\n",
      "Music & Audio;Music & Video : 1\n",
      "Lifestyle;Pretend Play : 1\n",
      "Lifestyle;Education : 1\n",
      "Health & Fitness;Education : 1\n",
      "Health & Fitness;Action & Adventure : 1\n",
      "Entertainment;Education : 1\n",
      "Communication;Creativity : 1\n",
      "Comics;Creativity : 1\n",
      "Casual;Music & Video : 1\n",
      "Card;Action & Adventure : 1\n",
      "Books & Reference;Education : 1\n",
      "Art & Design;Pretend Play : 1\n",
      "Art & Design;Action & Adventure : 1\n",
      "Arcade;Pretend Play : 1\n",
      "Adventure;Education : 1\n"
     ]
    }
   ],
   "source": [
    "display_table(google_eng_free,9)"
   ]
  },
  {
   "cell_type": "markdown",
   "metadata": {},
   "source": [
    "### Apple"
   ]
  },
  {
   "cell_type": "markdown",
   "metadata": {},
   "source": [
    "**Primary genre**"
   ]
  },
  {
   "cell_type": "code",
   "execution_count": 25,
   "metadata": {},
   "outputs": [
    {
     "name": "stdout",
     "output_type": "stream",
     "text": [
      "Games : 1866\n",
      "Entertainment : 251\n",
      "Photo & Video : 160\n",
      "Education : 118\n",
      "Social Networking : 106\n",
      "Shopping : 83\n",
      "Utilities : 79\n",
      "Sports : 69\n",
      "Music : 66\n",
      "Health & Fitness : 65\n",
      "Productivity : 56\n",
      "Lifestyle : 50\n",
      "News : 43\n",
      "Travel : 40\n",
      "Finance : 35\n",
      "Weather : 28\n",
      "Food & Drink : 26\n",
      "Reference : 17\n",
      "Business : 17\n",
      "Book : 12\n",
      "Navigation : 6\n",
      "Medical : 6\n",
      "Catalogs : 4\n"
     ]
    }
   ],
   "source": [
    "display_table(apple_eng_free,12)"
   ]
  },
  {
   "cell_type": "markdown",
   "metadata": {},
   "source": [
    "We see that apps of the 'Games' primary genre are the most frequent of the english & free apps on the App Store. This is nearly 9 times more common than the runner-up, which is the 'Entertainment' genre."
   ]
  },
  {
   "cell_type": "markdown",
   "metadata": {},
   "source": [
    "## Finding the most popular genres"
   ]
  },
  {
   "cell_type": "code",
   "execution_count": 26,
   "metadata": {},
   "outputs": [],
   "source": [
    "ft_apple_genres = freq_table(apple_eng_free,12)"
   ]
  },
  {
   "cell_type": "code",
   "execution_count": 27,
   "metadata": {},
   "outputs": [
    {
     "name": "stdout",
     "output_type": "stream",
     "text": [
      "Productivity\n",
      "21028.410714285714\n",
      "\n",
      "\n",
      "Weather\n",
      "52279.892857142855\n",
      "\n",
      "\n",
      "Shopping\n",
      "27230.734939759037\n",
      "\n",
      "\n",
      "Reference\n",
      "79350.4705882353\n",
      "\n",
      "\n",
      "Finance\n",
      "32367.02857142857\n",
      "\n",
      "\n",
      "Music\n",
      "57326.530303030304\n",
      "\n",
      "\n",
      "Utilities\n",
      "19156.493670886077\n",
      "\n",
      "\n",
      "Travel\n",
      "28243.8\n",
      "\n",
      "\n",
      "Social Networking\n",
      "71548.34905660378\n",
      "\n",
      "\n",
      "Sports\n",
      "23008.898550724636\n",
      "\n",
      "\n",
      "Health & Fitness\n",
      "23298.015384615384\n",
      "\n",
      "\n",
      "Games\n",
      "22886.36709539121\n",
      "\n",
      "\n",
      "Food & Drink\n",
      "33333.92307692308\n",
      "\n",
      "\n",
      "News\n",
      "21248.023255813954\n",
      "\n",
      "\n",
      "Book\n",
      "46384.916666666664\n",
      "\n",
      "\n",
      "Photo & Video\n",
      "28441.54375\n",
      "\n",
      "\n",
      "Entertainment\n",
      "14195.358565737051\n",
      "\n",
      "\n",
      "Business\n",
      "7491.117647058823\n",
      "\n",
      "\n",
      "Lifestyle\n",
      "16815.48\n",
      "\n",
      "\n",
      "Education\n",
      "7003.983050847458\n",
      "\n",
      "\n",
      "Navigation\n",
      "86090.33333333333\n",
      "\n",
      "\n",
      "Medical\n",
      "612.0\n",
      "\n",
      "\n",
      "Catalogs\n",
      "4004.0\n",
      "\n",
      "\n"
     ]
    }
   ],
   "source": [
    "apple_genre_avg_users = {}\n",
    "\n",
    "for genre in ft_apple_genres:\n",
    "    total = 0\n",
    "    length = 0\n",
    "    \n",
    "    for row in apple_eng_free:\n",
    "        if row[12] == genre:\n",
    "            total += int(row[6])\n",
    "            length += 1\n",
    "    print(genre)\n",
    "    print(total / length)\n",
    "    print('\\n')\n",
    "    apple_genre_avg_users[genre] = total / length\n"
   ]
  },
  {
   "cell_type": "markdown",
   "metadata": {},
   "source": [
    "The two app types that appear to have the largest userbase would be Navigation and Social Networking applications. The recommendation would be to look into building an app (leaning in favour of navigation as this had a larger average user base)."
   ]
  },
  {
   "cell_type": "code",
   "execution_count": 28,
   "metadata": {},
   "outputs": [],
   "source": [
    "ft_google_categories = freq_table(google_eng_free,1)"
   ]
  },
  {
   "cell_type": "code",
   "execution_count": 44,
   "metadata": {},
   "outputs": [
    {
     "name": "stdout",
     "output_type": "stream",
     "text": [
      "ART_AND_DESIGN\n",
      "1986335.0877192982\n",
      "\n",
      "\n",
      "AUTO_AND_VEHICLES\n",
      "647317.8170731707\n",
      "\n",
      "\n",
      "BEAUTY\n",
      "513151.88679245283\n",
      "\n",
      "\n",
      "BOOKS_AND_REFERENCE\n",
      "8814199.78835979\n",
      "\n",
      "\n",
      "BUSINESS\n",
      "1712290.1474201474\n",
      "\n",
      "\n",
      "COMICS\n",
      "832613.8888888889\n",
      "\n",
      "\n",
      "COMMUNICATION\n",
      "38590581.08741259\n",
      "\n",
      "\n",
      "DATING\n",
      "854028.8303030303\n",
      "\n",
      "\n",
      "EDUCATION\n",
      "1833495.145631068\n",
      "\n",
      "\n",
      "ENTERTAINMENT\n",
      "11640705.88235294\n",
      "\n",
      "\n",
      "EVENTS\n",
      "253542.22222222222\n",
      "\n",
      "\n",
      "FINANCE\n",
      "1387692.475609756\n",
      "\n",
      "\n",
      "FOOD_AND_DRINK\n",
      "1924897.7363636363\n",
      "\n",
      "\n",
      "HEALTH_AND_FITNESS\n",
      "4188821.9853479853\n",
      "\n",
      "\n",
      "HOUSE_AND_HOME\n",
      "1360598.042253521\n",
      "\n",
      "\n",
      "LIBRARIES_AND_DEMO\n",
      "638503.734939759\n",
      "\n",
      "\n",
      "LIFESTYLE\n",
      "1446158.2238372094\n",
      "\n",
      "\n",
      "GAME\n",
      "15544014.51048951\n",
      "\n",
      "\n",
      "FAMILY\n",
      "3697848.1731343283\n",
      "\n",
      "\n",
      "MEDICAL\n",
      "120550.61980830671\n",
      "\n",
      "\n",
      "SOCIAL\n",
      "23253652.127118643\n",
      "\n",
      "\n",
      "SHOPPING\n",
      "7036877.311557789\n",
      "\n",
      "\n",
      "PHOTOGRAPHY\n",
      "17840110.40229885\n",
      "\n",
      "\n",
      "SPORTS\n",
      "3650602.276666667\n",
      "\n",
      "\n",
      "TRAVEL_AND_LOCAL\n",
      "13984077.710144928\n",
      "\n",
      "\n",
      "TOOLS\n",
      "10830251.970588235\n",
      "\n",
      "\n",
      "PERSONALIZATION\n",
      "5201482.6122448975\n",
      "\n",
      "\n",
      "PRODUCTIVITY\n",
      "16787331.344927534\n",
      "\n",
      "\n",
      "PARENTING\n",
      "542603.6206896552\n",
      "\n",
      "\n",
      "WEATHER\n",
      "5145550.285714285\n",
      "\n",
      "\n",
      "VIDEO_PLAYERS\n",
      "24727872.452830188\n",
      "\n",
      "\n",
      "NEWS_AND_MAGAZINES\n",
      "9549178.467741935\n",
      "\n",
      "\n",
      "MAPS_AND_NAVIGATION\n",
      "4049274.6341463416\n",
      "\n",
      "\n"
     ]
    }
   ],
   "source": [
    "google_genre_avg_users = {}\n",
    "\n",
    "for genre in ft_google_categories:\n",
    "    total = 0\n",
    "    length = 0\n",
    "    \n",
    "    for row in google_eng_free:\n",
    "        installs = (row[5].replace('+','').replace(',',''))\n",
    "         \n",
    "        if row[1] == genre:\n",
    "            total += int(installs)\n",
    "            length += 1\n",
    "    print(genre)\n",
    "    print(total / length)\n",
    "    print('\\n')\n",
    "    google_genre_avg_users[genre] = total / length"
   ]
  },
  {
   "cell_type": "markdown",
   "metadata": {},
   "source": [
    "For a revenue generating free app, it would appear that a game would be able to command a large install base. However there is a lot of competition in this area which would make this challenging. Other areas that could prove useful would be a travel app, as this area has a large install base, and is a slightly less congested area of both app stores."
   ]
  },
  {
   "cell_type": "markdown",
   "metadata": {},
   "source": [
    "# Next Steps"
   ]
  },
  {
   "cell_type": "markdown",
   "metadata": {},
   "source": [
    "Analyze the frequency table for the Genre column of the Google Play data set, and see whether you can find useful patterns.\n",
    "Assume we could also make revenue via in-app purchases and subscriptions, and try to find out which genres seem to be liked the most by users — you could examine app ratings here.\n",
    "Refine your project using our data science project style guide.\n",
    "\n",
    "[link to dataquest page](https://app.dataquest.io/m/350/guided-project%3A-profitable-app-profiles-for-the-app-store-and-google-play-markets/14/next-steps)"
   ]
  },
  {
   "cell_type": "code",
   "execution_count": null,
   "metadata": {},
   "outputs": [],
   "source": []
  }
 ],
 "metadata": {
  "kernelspec": {
   "display_name": "Python 3",
   "language": "python",
   "name": "python3"
  },
  "language_info": {
   "codemirror_mode": {
    "name": "ipython",
    "version": 3
   },
   "file_extension": ".py",
   "mimetype": "text/x-python",
   "name": "python",
   "nbconvert_exporter": "python",
   "pygments_lexer": "ipython3",
   "version": "3.7.3"
  }
 },
 "nbformat": 4,
 "nbformat_minor": 2
}
